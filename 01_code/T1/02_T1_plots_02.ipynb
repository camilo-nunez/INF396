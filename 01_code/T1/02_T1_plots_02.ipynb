{
 "cells": [
  {
   "cell_type": "markdown",
   "id": "87597b6e-121b-4c1d-9fc3-79b014e2b66e",
   "metadata": {},
   "source": [
    "<center>\n",
    "    <img src=\"http://sct.inf.utfsm.cl/wp-content/uploads/2020/04/logo_di.png\" style=\"width:60%\">\n",
    "    <h1> INF396 - Introducción a la Ciencia de Datos</h1>\n",
    "    <h3> Material Complementario T1</h3>\n",
    "    <h3> Camilo Núñez-Fernández - camilo.nunezf@usm.cl</h3>\n",
    "</center>\n",
    "<hr style=\"height:2px;border:none\"/>\n",
    "\n",
    "**Temas**  \n",
    "\n",
    "* Estadística Descriptiva - Rep. Gráficas - Parte 2\n",
    "\n",
    "<hr style=\"height:2px;border:none\"/>"
   ]
  },
  {
   "cell_type": "code",
   "execution_count": null,
   "id": "b2a71b80-4c38-4026-8ec6-a8ad9e436bad",
   "metadata": {},
   "outputs": [],
   "source": [
    "import numpy as np\n",
    "import pandas as pd\n",
    "\n",
    "import plotly.graph_objects as go\n",
    "import plotly.express as px\n",
    "\n",
    "from sklearn.cluster import KMeans\n",
    "from scipy.stats import gaussian_kde"
   ]
  },
  {
   "cell_type": "code",
   "execution_count": null,
   "id": "5937ff33-d64a-45bb-8f39-68541ad6b282",
   "metadata": {},
   "outputs": [],
   "source": [
    "np.random.seed(42)\n",
    "\n",
    "colors = ['#1f77b4', '#ff7f0e']"
   ]
  },
  {
   "cell_type": "markdown",
   "id": "d4d6aa6d-f490-42d3-905e-892c6e7747bb",
   "metadata": {},
   "source": [
    "# II.II~$\\rhd$~Estadística Descriptiva - Visualización: Violin Plots"
   ]
  },
  {
   "cell_type": "markdown",
   "id": "fda81030-e882-47df-8abb-e383e78d02db",
   "metadata": {},
   "source": [
    "## Ejemplo 1"
   ]
  },
  {
   "cell_type": "code",
   "execution_count": null,
   "id": "258d200c-d787-41ec-8d16-5f5f017b90e7",
   "metadata": {},
   "outputs": [],
   "source": [
    "cluster1 = np.random.normal(loc=(30, 30), scale=3, size=(300, 2))\n",
    "cluster2 = np.random.normal(loc=(60, 60), scale=3, size=(300, 2))\n",
    "data = np.vstack([cluster1, cluster2])"
   ]
  },
  {
   "cell_type": "code",
   "execution_count": null,
   "id": "b4550b06-6e5f-4c6c-a782-f98d6c65a85b",
   "metadata": {},
   "outputs": [],
   "source": [
    "kmeans = KMeans(n_clusters=2, random_state=42)\n",
    "labels = kmeans.fit_predict(data)\n",
    "centroids = kmeans.cluster_centers_"
   ]
  },
  {
   "cell_type": "code",
   "execution_count": null,
   "id": "b64ed0b6-4ad8-4981-9d43-2961d349a8cb",
   "metadata": {},
   "outputs": [],
   "source": [
    "df = pd.DataFrame(data, columns=['Eje X', 'Eje Y'])\n",
    "df['Cluster'] = labels.astype(str)"
   ]
  },
  {
   "cell_type": "markdown",
   "id": "14b4d401-964e-4930-bc31-c4be3600e444",
   "metadata": {},
   "source": [
    "### Dispersión 2D con K-means"
   ]
  },
  {
   "cell_type": "code",
   "execution_count": null,
   "id": "f96aacb0-d72f-4a7e-a68c-d65f1441e3aa",
   "metadata": {},
   "outputs": [],
   "source": [
    "fig1 = go.Figure()\n",
    "\n",
    "for i, grupo in enumerate(['0', '1']):\n",
    "    fig1.add_trace(go.Scatter(\n",
    "        x=df[df['Cluster'] == grupo]['Eje X'],\n",
    "        y=df[df['Cluster'] == grupo]['Eje Y'],\n",
    "        mode='markers',\n",
    "        marker=dict(color=colors[i], opacity=0.7, size=8),\n",
    "        name=f'Grupo {grupo}'\n",
    "    ))\n",
    "\n",
    "fig1.add_trace(go.Scatter(\n",
    "    x=centroids[:, 0],\n",
    "    y=centroids[:, 1],\n",
    "    mode='markers',\n",
    "    marker=dict(symbol='x', size=15, color='black', line=dict(width=2)),\n",
    "    name='Centroides'\n",
    "))\n",
    "\n",
    "fig1.update_layout(\n",
    "    title='Agrupamiento 2D con K-medias',\n",
    "    xaxis_title='Característica 1',\n",
    "    yaxis_title='Característica 2',\n",
    "    width=1000,\n",
    "    height=600,\n",
    "    template='plotly_white'\n",
    ")\n",
    "\n",
    "fig1.show()"
   ]
  },
  {
   "cell_type": "markdown",
   "id": "dccbd8f0-29c0-4ec9-8b1d-4735f40ab818",
   "metadata": {},
   "source": [
    "### Histograma + KDE por cluster"
   ]
  },
  {
   "cell_type": "code",
   "execution_count": null,
   "id": "c4bbadb2-831b-445c-858b-ff2051b60a94",
   "metadata": {},
   "outputs": [],
   "source": [
    "fig2 = go.Figure()\n",
    "\n",
    "for i, cluster in enumerate(['0', '1']):\n",
    "    valores_cluster = df[df['Cluster'] == cluster]['Eje X']\n",
    "    \n",
    "    fig2.add_trace(go.Histogram(\n",
    "        x=valores_cluster,\n",
    "        nbinsx=30,\n",
    "        marker_color=colors[i],\n",
    "        opacity=0.6,\n",
    "        name=f'cluster {cluster} (Histograma)'\n",
    "    ))\n",
    "    \n",
    "    # KDE\n",
    "    kde = gaussian_kde(valores_cluster)\n",
    "    x_valores = np.linspace(valores_cluster.min(), valores_cluster.max(), 500)\n",
    "    fig2.add_trace(go.Scatter(\n",
    "        x=x_valores,\n",
    "        y=kde(x_valores) * 120,\n",
    "        line=dict(color=colors[i], width=3),\n",
    "        name=f'cluster {cluster} (KDE)'\n",
    "    ))\n",
    "\n",
    "fig2.update_layout(\n",
    "    title='Distribución de valores por cluster',\n",
    "    xaxis_title='Valor',\n",
    "    yaxis_title='Densidad/Frecuencia',\n",
    "    barmode='overlay',\n",
    "    width=1000,\n",
    "    height=600,\n",
    "    template='plotly_white'\n",
    ")\n",
    "\n",
    "fig2.show()"
   ]
  },
  {
   "cell_type": "markdown",
   "id": "afc93f8c-cd56-4e94-8b98-d8c66e656a22",
   "metadata": {},
   "source": [
    "### Gráfico de violín"
   ]
  },
  {
   "cell_type": "code",
   "execution_count": null,
   "id": "1eec57ce-57b3-4eb9-acf5-fdd3b3b4dd57",
   "metadata": {},
   "outputs": [],
   "source": [
    "fig3 = go.Figure()\n",
    "\n",
    "for i, cluster in enumerate(['0', '1']):\n",
    "    fig3.add_trace(go.Violin(\n",
    "        x=df[df['Cluster'] == cluster]['Cluster'],\n",
    "        y=df[df['Cluster'] == cluster]['Eje X'],\n",
    "        box_visible=True,\n",
    "        meanline_visible=True,\n",
    "        points='all',\n",
    "        marker_color=colors[i],\n",
    "        name=f'cluster {cluster}',\n",
    "        line_color=colors[i]\n",
    "    ))\n",
    "\n",
    "fig3.update_layout(\n",
    "    title='Distribución por Cluster (Violín)',\n",
    "    xaxis_title='Cluster',\n",
    "    yaxis_title='Distribución de valores',\n",
    "    width=1000,\n",
    "    height=600,\n",
    "    template='plotly_white',\n",
    "    showlegend=True\n",
    ")\n",
    "\n",
    "fig3.show()"
   ]
  },
  {
   "cell_type": "markdown",
   "id": "5050b706-af94-4beb-aacc-48b4dbc9676e",
   "metadata": {},
   "source": [
    "## Ejemplo 2"
   ]
  },
  {
   "cell_type": "code",
   "execution_count": null,
   "id": "d6aed239-9c0f-4e5c-a03b-8d6e0bbe1e04",
   "metadata": {},
   "outputs": [],
   "source": [
    "n_samples = 10000\n",
    "\n",
    "data_uniform = np.random.uniform(20, 60, n_samples)\n",
    "data_normal = np.random.normal(50, 5, n_samples)\n",
    "data_multi = np.concatenate([np.random.normal(30, 5, n_samples//2), \n",
    "                             np.random.normal(60, 5, n_samples//2)])\n",
    "\n",
    "df_uniform = pd.DataFrame({'value': data_uniform, 'dataset': 'Uniforme'})\n",
    "df_multi = pd.DataFrame({'value': data_multi, 'dataset': 'Multimodal'})\n",
    "df_normal = pd.DataFrame({'value': data_normal, 'dataset': 'Normal'})\n",
    "\n",
    "df = pd.concat([df_uniform, df_normal, df_multi])"
   ]
  },
  {
   "cell_type": "markdown",
   "id": "9ae154fa-e2c3-45b8-986a-dbaf36cf6f81",
   "metadata": {},
   "source": [
    "### Boxplot SIN labels"
   ]
  },
  {
   "cell_type": "code",
   "execution_count": null,
   "id": "631739b3-c4d5-482b-84ee-b2adf42da79d",
   "metadata": {},
   "outputs": [],
   "source": [
    "fig = px.box(df, \n",
    "             y='value', \n",
    "             x='dataset',\n",
    "             color='dataset',\n",
    "             title='Comparación de distribuciones: Uniforme, Normal y Multimodal',\n",
    "             labels={'value': 'Valor', 'dataset': 'Tipo de distribución'},\n",
    "             hover_data=['value'])\n",
    "\n",
    "fig.update_layout(\n",
    "    xaxis=dict(\n",
    "        showticklabels=False,  # Oculta labels del eje X\n",
    "        title_text=''          # Oculta título del eje X\n",
    "    ),\n",
    "    yaxis=dict(\n",
    "        showticklabels=False,  # Oculta labels del eje Y\n",
    "        title_text=''          # Oculta título del eje Y\n",
    "    ),\n",
    "    showlegend=False,         # Oculta la leyenda\n",
    "    title_text='',            # Oculta el título\n",
    "    margin=dict(l=20, r=20, t=20, b=20),  # Reduce márgenes\n",
    "    width=1200,\n",
    "    height=600,\n",
    ")\n",
    "fig.update_traces(showlegend=False)\n",
    "\n",
    "fig.show()"
   ]
  },
  {
   "cell_type": "markdown",
   "id": "fb396f9c-3a50-4a57-9cda-bad81754110f",
   "metadata": {},
   "source": [
    "### Boxplot con labels"
   ]
  },
  {
   "cell_type": "code",
   "execution_count": null,
   "id": "2d0ffde5-a0ac-41e0-b85c-c028bd63d11e",
   "metadata": {},
   "outputs": [],
   "source": [
    "fig = px.box(df, \n",
    "             y='value', \n",
    "             x='dataset',\n",
    "             color='dataset',\n",
    "             points='all',\n",
    "             title='Comparación de distribuciones: Uniforme, Normal y Multimodal',\n",
    "             labels={'value': 'Valor', 'dataset': 'Tipo de distribución'},\n",
    "             hover_data=['value'])\n",
    "\n",
    "fig.update_layout(\n",
    "    yaxis_title='Valores',\n",
    "    xaxis_title='Distribución',\n",
    "    showlegend=False,\n",
    "    width=1200,\n",
    "    height=600,\n",
    "    template='plotly_white'\n",
    ")\n",
    "\n",
    "fig.show()"
   ]
  },
  {
   "cell_type": "markdown",
   "id": "eee26b76-e21b-48f2-b33e-c53df0c3d44e",
   "metadata": {},
   "source": [
    "### Gráfico de violín SIN labels"
   ]
  },
  {
   "cell_type": "code",
   "execution_count": null,
   "id": "0117b045-9628-43a6-ab1c-769d1d80b6d5",
   "metadata": {},
   "outputs": [],
   "source": [
    "fig = px.violin(df, \n",
    "                y='value', \n",
    "                x='dataset',\n",
    "                color='dataset',\n",
    "                box=True,\n",
    "                title='Comparación de distribuciones: Uniforme, Normal y Multimodal',\n",
    "                labels={'value': 'Valor', 'dataset': 'Tipo de distribución'},\n",
    "                hover_data=['value'])\n",
    "\n",
    "fig.update_layout(\n",
    "    xaxis=dict(\n",
    "        showticklabels=False,  # Oculta labels del eje X\n",
    "        title_text=''          # Oculta título del eje X\n",
    "    ),\n",
    "    yaxis=dict(\n",
    "        showticklabels=False,  # Oculta labels del eje Y\n",
    "        title_text=''          # Oculta título del eje Y\n",
    "    ),\n",
    "    showlegend=False,         # Oculta la leyenda\n",
    "    title_text='',            # Oculta el título\n",
    "    margin=dict(l=20, r=20, t=20, b=20),  # Reduce márgenes\n",
    "    width=1200,\n",
    "    height=600,\n",
    ")\n",
    "fig.update_traces(showlegend=False)\n",
    "\n",
    "fig.show()"
   ]
  },
  {
   "cell_type": "markdown",
   "id": "75c29713-6088-4ee8-8af5-df775b81a812",
   "metadata": {},
   "source": [
    "### Gráfico de violín con labels"
   ]
  },
  {
   "cell_type": "code",
   "execution_count": null,
   "id": "93ab5543-11d9-42a1-b618-8c3f2cd74298",
   "metadata": {},
   "outputs": [],
   "source": [
    "fig = px.violin(df, \n",
    "                y='value', \n",
    "                x='dataset',\n",
    "                color='dataset',\n",
    "                box=True,\n",
    "                points='all',\n",
    "                title='Comparación de distribuciones: Uniforme, Normal y Multimodal',\n",
    "                labels={'value': 'Valor', 'dataset': 'Tipo de distribución'},\n",
    "                hover_data=['value'])\n",
    "\n",
    "fig.update_layout(\n",
    "    yaxis_title='Valores',\n",
    "    xaxis_title='Distribución',\n",
    "    showlegend=False,\n",
    "    width=1200,\n",
    "    height=600,\n",
    "    template='plotly_white'\n",
    ")\n",
    "\n",
    "fig.show()"
   ]
  },
  {
   "cell_type": "code",
   "execution_count": null,
   "id": "dbe34119-183f-41c0-9ef7-a37823922381",
   "metadata": {},
   "outputs": [],
   "source": []
  }
 ],
 "metadata": {
  "kernelspec": {
   "display_name": "Python 3 (ipykernel)",
   "language": "python",
   "name": "python3"
  },
  "language_info": {
   "codemirror_mode": {
    "name": "ipython",
    "version": 3
   },
   "file_extension": ".py",
   "mimetype": "text/x-python",
   "name": "python",
   "nbconvert_exporter": "python",
   "pygments_lexer": "ipython3",
   "version": "3.12.9"
  }
 },
 "nbformat": 4,
 "nbformat_minor": 5
}
