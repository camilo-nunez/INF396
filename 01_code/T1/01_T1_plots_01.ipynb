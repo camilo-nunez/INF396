{
 "cells": [
  {
   "cell_type": "markdown",
   "id": "1febd817-33ad-4c75-b9b4-cd1cb75041d4",
   "metadata": {},
   "source": [
    "<center>\n",
    "    <img src=\"http://sct.inf.utfsm.cl/wp-content/uploads/2020/04/logo_di.png\" style=\"width:60%\">\n",
    "    <h1> INF396 - Introducción a la Ciencia de Datos</h1>\n",
    "    <h3> Material Complementario T1</h3>\n",
    "    <h3> Camilo Núñez-Fernández - camilo.nunezf@usm.cl</h3>\n",
    "</center>\n",
    "<hr style=\"height:2px;border:none\"/>\n",
    "\n",
    "**Temas**  \n",
    "\n",
    "* Estadística Descriptiva - Rep. Gráficas - Parte 1\n",
    "\n",
    "<hr style=\"height:2px;border:none\"/>"
   ]
  },
  {
   "cell_type": "code",
   "execution_count": null,
   "id": "512b8b0d-960e-4cc1-8dbc-fb26dadfb96f",
   "metadata": {},
   "outputs": [],
   "source": [
    "import plotly.express as px\n",
    "import pandas as pd\n",
    "import numpy as np"
   ]
  },
  {
   "cell_type": "markdown",
   "id": "9a5c4362-6e5a-45db-b963-4cf6119a6629",
   "metadata": {},
   "source": [
    "# II.II~$\\rhd$~Estadística Descriptiva - Visualización: Barplot"
   ]
  },
  {
   "cell_type": "code",
   "execution_count": null,
   "id": "be4cf9d8-a86e-42f4-ab80-c9b47ed77594",
   "metadata": {},
   "outputs": [],
   "source": [
    "data = {\n",
    "    'Producto': ['A', 'A', 'A', 'B', 'B', 'B', 'C', 'C', 'C', 'D', 'D', 'D'],\n",
    "    'Ciudad': ['Madrid', 'Barcelona', 'Sevilla', 'Madrid', 'Barcelona', 'Sevilla', \n",
    "               'Madrid', 'Barcelona', 'Sevilla', 'Madrid', 'Barcelona', 'Sevilla'],\n",
    "    'Ventas': [120, 150, 100, 300, 280, 310, 180, 190, 170, 250, 260, 240]\n",
    "}\n",
    "\n",
    "df = pd.DataFrame(data)"
   ]
  },
  {
   "cell_type": "code",
   "execution_count": null,
   "id": "541582c1-4600-4568-af58-9d364c3ed219",
   "metadata": {},
   "outputs": [],
   "source": [
    "fig = px.bar(df, x=\"Producto\", y=\"Ventas\", color=\"Ciudad\", \n",
    "             barmode=\"group\", title=\"Ventas por Producto y Ciudad\")\n",
    "\n",
    "fig.update_layout(\n",
    "    title_font_size=40,  # Tamaño del título\n",
    "    xaxis_title=\"Productos\",  \n",
    "    yaxis_title=\"Ventas\",  \n",
    "    xaxis_title_font_size=30,  # Tamaño de la etiqueta del eje X\n",
    "    yaxis_title_font_size=30,  # Tamaño de la etiqueta del eje Y\n",
    "    xaxis=dict(tickfont=dict(size=25)),  # Tamaño de las etiquetas del eje X\n",
    "    yaxis=dict(tickfont=dict(size=25)),  # Tamaño de las etiquetas del eje Y\n",
    "    legend=dict(font=dict(size=25))  # Tamaño de la leyenda\n",
    ")\n",
    "\n",
    "fig.show()"
   ]
  },
  {
   "cell_type": "markdown",
   "id": "346ecb1e-fe38-45bd-a4e0-eee8783046d1",
   "metadata": {},
   "source": [
    "# II.II~$\\rhd$~Estadística Descriptiva - Visualización: Histograma\n",
    "## Normal Distribution "
   ]
  },
  {
   "cell_type": "code",
   "execution_count": null,
   "id": "7952ecdc-444f-4ba8-84dc-2177c51adb11",
   "metadata": {},
   "outputs": [],
   "source": [
    "data = np.random.normal(loc=50, scale=10, size=1000)  # mu=50, sigma=10"
   ]
  },
  {
   "cell_type": "code",
   "execution_count": null,
   "id": "67c7ec93-4a50-472d-981e-12da6e11e3f6",
   "metadata": {},
   "outputs": [],
   "source": [
    "fig = px.histogram(data, nbins=30, title=\"Distribución Normal\")\n",
    "\n",
    "fig.update_traces(marker=dict(line=dict(color='black', width=1)))\n",
    "\n",
    "fig.update_layout(\n",
    "    title_font_size=40,\n",
    "    xaxis_title_font_size=30,\n",
    "    yaxis_title_font_size=30,\n",
    "    xaxis=dict(tickfont=dict(size=25)),\n",
    "    yaxis=dict(tickfont=dict(size=25)),\n",
    "    width=1000,\n",
    "    height=600,\n",
    "    showlegend=False\n",
    ")\n",
    "\n",
    "fig.show()"
   ]
  },
  {
   "cell_type": "markdown",
   "id": "bf2d53f5-d4c0-4e59-8583-9afdc2fb03cb",
   "metadata": {},
   "source": [
    "## Uniform Distribution"
   ]
  },
  {
   "cell_type": "code",
   "execution_count": null,
   "id": "c9e92afa-0e4b-4f43-94c2-ac817aa5d6f1",
   "metadata": {},
   "outputs": [],
   "source": [
    "data_uniform = np.random.uniform(0, 100, 1000)"
   ]
  },
  {
   "cell_type": "code",
   "execution_count": null,
   "id": "84ba41c4-f597-4138-aec2-77aeeeb0f77d",
   "metadata": {},
   "outputs": [],
   "source": [
    "fig = px.histogram(data_uniform, nbins=30, title=\"Distribución Uniforme\")\n",
    "\n",
    "fig.update_traces(marker=dict(line=dict(color='black', width=1)))\n",
    "\n",
    "fig.update_layout(\n",
    "    title_font_size=40,\n",
    "    xaxis_title_font_size=30,\n",
    "    yaxis_title_font_size=30,\n",
    "    xaxis=dict(tickfont=dict(size=25)),\n",
    "    yaxis=dict(tickfont=dict(size=25)),\n",
    "    width=1000,\n",
    "    height=600,\n",
    "    showlegend=False\n",
    ")\n",
    "\n",
    "fig.show()"
   ]
  },
  {
   "cell_type": "markdown",
   "id": "0f8df044-c247-44d0-9c6c-31d459848712",
   "metadata": {},
   "source": [
    "## Skewed Left"
   ]
  },
  {
   "cell_type": "code",
   "execution_count": null,
   "id": "f97b641f-fcc7-490e-83ee-9c5ae7715511",
   "metadata": {},
   "outputs": [],
   "source": [
    "data_left = -np.random.exponential(scale=10, size=1000) + 50"
   ]
  },
  {
   "cell_type": "code",
   "execution_count": null,
   "id": "1330cc38-81b7-4fc2-ab32-974d7f40c806",
   "metadata": {},
   "outputs": [],
   "source": [
    "fig = px.histogram(data_left, nbins=30, title=\"Asimetría a la Izquierda\")\n",
    "\n",
    "fig.update_traces(marker=dict(line=dict(color='black', width=1)))\n",
    "\n",
    "fig.update_layout(\n",
    "    title_font_size=40,\n",
    "    xaxis_title_font_size=30,\n",
    "    yaxis_title_font_size=30,\n",
    "    xaxis=dict(tickfont=dict(size=25)),\n",
    "    yaxis=dict(tickfont=dict(size=25)),\n",
    "    width=1000,\n",
    "    height=600,\n",
    "    showlegend=False\n",
    ")\n",
    "\n",
    "fig.show()"
   ]
  },
  {
   "cell_type": "markdown",
   "id": "f1247375-4e79-4770-9471-6bb5d2148ce6",
   "metadata": {},
   "source": [
    "## Skewed Left"
   ]
  },
  {
   "cell_type": "code",
   "execution_count": null,
   "id": "20b06eea-2f0d-4c18-b3d2-87cf5e17fc33",
   "metadata": {},
   "outputs": [],
   "source": [
    "data_right = np.random.exponential(scale=10, size=1000)"
   ]
  },
  {
   "cell_type": "code",
   "execution_count": null,
   "id": "44af14dd-93ae-48b8-b775-cdfe792d86f9",
   "metadata": {},
   "outputs": [],
   "source": [
    "fig = px.histogram(data_right, nbins=30, title=\"Asimetría a la Derecha\")\n",
    "\n",
    "fig.update_traces(marker=dict(line=dict(color='black', width=1)))\n",
    "\n",
    "fig.update_layout(\n",
    "    title_font_size=40,\n",
    "    xaxis_title_font_size=30,\n",
    "    yaxis_title_font_size=30,\n",
    "    xaxis=dict(tickfont=dict(size=25)),\n",
    "    yaxis=dict(tickfont=dict(size=25)),\n",
    "    width=1000,\n",
    "    height=600,\n",
    "    showlegend=False\n",
    ")\n",
    "\n",
    "fig.show()"
   ]
  },
  {
   "cell_type": "markdown",
   "id": "95b0798b-b996-42d0-862b-f35e572cb0a9",
   "metadata": {},
   "source": [
    "## Multi-Modality"
   ]
  },
  {
   "cell_type": "code",
   "execution_count": null,
   "id": "325341fa-22d1-4f58-a64f-71e25d7de43c",
   "metadata": {},
   "outputs": [],
   "source": [
    "normal_1 = np.random.normal(30, 5, 500)\n",
    "normal_2 = np.random.normal(60, 5, 500)\n",
    "data_multi = np.concatenate([normal_1, normal_2])"
   ]
  },
  {
   "cell_type": "code",
   "execution_count": null,
   "id": "e362e425-8b35-4d5d-8ffc-5ce9f9fcf850",
   "metadata": {},
   "outputs": [],
   "source": [
    "fig = px.histogram(data_multi, nbins=30, title=\"Distribución Multimodal\")\n",
    "\n",
    "fig.update_traces(marker=dict(line=dict(color='black', width=1)))\n",
    "\n",
    "fig.update_layout(\n",
    "    title_font_size=40,\n",
    "    xaxis_title_font_size=30,\n",
    "    yaxis_title_font_size=30,\n",
    "    xaxis=dict(tickfont=dict(size=25)),\n",
    "    yaxis=dict(tickfont=dict(size=25)),\n",
    "    width=1000,\n",
    "    height=600,\n",
    "    showlegend=False\n",
    ")\n",
    "\n",
    "fig.show()"
   ]
  },
  {
   "cell_type": "code",
   "execution_count": null,
   "id": "0a49177f-bc8b-42c5-8434-685bfb5ebc60",
   "metadata": {},
   "outputs": [],
   "source": []
  }
 ],
 "metadata": {
  "kernelspec": {
   "display_name": "Python 3 (ipykernel)",
   "language": "python",
   "name": "python3"
  },
  "language_info": {
   "codemirror_mode": {
    "name": "ipython",
    "version": 3
   },
   "file_extension": ".py",
   "mimetype": "text/x-python",
   "name": "python",
   "nbconvert_exporter": "python",
   "pygments_lexer": "ipython3",
   "version": "3.12.9"
  }
 },
 "nbformat": 4,
 "nbformat_minor": 5
}
