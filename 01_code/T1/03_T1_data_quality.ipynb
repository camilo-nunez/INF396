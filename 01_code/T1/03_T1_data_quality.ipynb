{
 "cells": [
  {
   "cell_type": "markdown",
   "id": "05a4fb0e-2849-4df6-b403-e14e6e9b2bbf",
   "metadata": {},
   "source": [
    "<center>\n",
    "    <img src=\"http://sct.inf.utfsm.cl/wp-content/uploads/2020/04/logo_di.png\" style=\"width:60%\">\n",
    "    <h1> INF396 - Introducción a la Ciencia de Datos</h1>\n",
    "    <h3> Material Complementario T1</h3>\n",
    "    <h3> Camilo Núñez-Fernández - camilo.nunezf@usm.cl</h3>\n",
    "</center>\n",
    "<hr style=\"height:2px;border:none\"/>\n",
    "\n",
    "**Temas**  \n",
    "\n",
    "* III.I~$\\rhd$~ Data Cleaning\n",
    "\n",
    "<hr style=\"height:2px;border:none\"/>"
   ]
  },
  {
   "cell_type": "code",
   "execution_count": null,
   "id": "2faecdc9-efb7-4229-8f40-4352495e9170",
   "metadata": {},
   "outputs": [],
   "source": [
    "import warnings\n",
    "warnings.filterwarnings('ignore')"
   ]
  },
  {
   "cell_type": "code",
   "execution_count": null,
   "id": "016b9101-e5fd-4891-a0e6-b4404cbee1c2",
   "metadata": {},
   "outputs": [],
   "source": [
    "import numpy as np\n",
    "import pandas as pd\n",
    "\n",
    "import plotly.graph_objects as go\n",
    "from plotly.subplots import make_subplots\n",
    "\n",
    "from sklearn.impute import SimpleImputer\n",
    "from sklearn.impute import KNNImputer"
   ]
  },
  {
   "cell_type": "code",
   "execution_count": null,
   "id": "6910329d-1ce9-4555-9b32-24d866632ac4",
   "metadata": {},
   "outputs": [],
   "source": [
    "np.random.seed(42)"
   ]
  },
  {
   "cell_type": "markdown",
   "id": "4d4b72d3-7354-4cf3-a04b-23a83a926a0d",
   "metadata": {},
   "source": [
    "# III.I~$\\rhd$~ Data Cleaning - Noisy Data"
   ]
  },
  {
   "cell_type": "code",
   "execution_count": null,
   "id": "c7fccce8-1e46-47ab-ba02-9f3f2c2f6d53",
   "metadata": {},
   "outputs": [],
   "source": [
    "x = np.linspace(0, 10, 100)\n",
    "y = np.sin(x) + np.random.normal(0, 0.3, 100)\n",
    "\n",
    "df = pd.DataFrame({'x': x, 'y_original': y})"
   ]
  },
  {
   "cell_type": "code",
   "execution_count": null,
   "id": "f2c5087b-953c-4530-9b05-ee3c1b3c4845",
   "metadata": {},
   "outputs": [],
   "source": [
    "def apply_binning(data, n_bins=10, method='mean'):\n",
    "\n",
    "    bins = pd.cut(data, bins=n_bins)\n",
    "    \n",
    "    if method == 'mean':\n",
    "        smoothed = data.groupby(bins).transform('mean')\n",
    "    elif method == 'median':\n",
    "        smoothed = data.groupby(bins).transform('median')\n",
    "    elif method == 'boundary':\n",
    "        bin_edges = pd.cut(data, bins=n_bins, retbins=True)[1]\n",
    "        smoothed = data.copy()\n",
    "        for i in range(len(bin_edges)-1):\n",
    "            mask = (data >= bin_edges[i]) & (data <= bin_edges[i+1])\n",
    "            left_dist = np.abs(data[mask] - bin_edges[i])\n",
    "            right_dist = np.abs(data[mask] - bin_edges[i+1])\n",
    "            smoothed[mask] = np.where(left_dist < right_dist, bin_edges[i], bin_edges[i+1])\n",
    "    else:\n",
    "        raise ValueError(\"Método no válido. Usar 'mean', 'median' o 'boundary'\")\n",
    "    return smoothed"
   ]
  },
  {
   "cell_type": "code",
   "execution_count": null,
   "id": "e242adb8-c68a-4c6f-9010-131fe2dd7fe6",
   "metadata": {},
   "outputs": [],
   "source": [
    "df['y_mean'] = apply_binning(df['y_original'], n_bins=10, method='mean')\n",
    "df['y_median'] = apply_binning(df['y_original'], n_bins=10, method='median')\n",
    "df['y_boundary'] = apply_binning(df['y_original'], n_bins=10, method='boundary')"
   ]
  },
  {
   "cell_type": "code",
   "execution_count": null,
   "id": "59b78769-ab05-44c7-a160-059122b42462",
   "metadata": {},
   "outputs": [],
   "source": [
    "fig = make_subplots(rows=2, cols=2, \n",
    "                    subplot_titles=(\"Datos Originales\", \n",
    "                                   \"Binning por Media\", \n",
    "                                   \"Binning por Mediana\", \n",
    "                                   \"Binning por Fronteras\"))\n",
    "\n",
    "fig.add_trace(\n",
    "    go.Scatter(x=df['x'], y=df['y_original'], mode='markers', name='Original'),\n",
    "    row=1, col=1\n",
    ")\n",
    "\n",
    "fig.add_trace(\n",
    "    go.Scatter(x=df['x'], y=df['y_mean'], mode='lines', name='Media', line=dict(color='red', width=2)),\n",
    "    row=1, col=2\n",
    ")\n",
    "fig.add_trace(\n",
    "    go.Scatter(x=df['x'], y=df['y_original'], mode='markers', name='Original', marker=dict(opacity=0.3)),\n",
    "    row=1, col=2\n",
    ")\n",
    "\n",
    "fig.add_trace(\n",
    "    go.Scatter(x=df['x'], y=df['y_median'], mode='lines', name='Mediana', line=dict(color='green', width=2)),\n",
    "    row=2, col=1\n",
    ")\n",
    "fig.add_trace(\n",
    "    go.Scatter(x=df['x'], y=df['y_original'], mode='markers', name='Original', marker=dict(opacity=0.3)),\n",
    "    row=2, col=1\n",
    ")\n",
    "\n",
    "fig.add_trace(\n",
    "    go.Scatter(x=df['x'], y=df['y_boundary'], mode='lines', name='Fronteras', line=dict(color='purple', width=2)),\n",
    "    row=2, col=2\n",
    ")\n",
    "fig.add_trace(\n",
    "    go.Scatter(x=df['x'], y=df['y_original'], mode='markers', name='Original', marker=dict(opacity=0.3)),\n",
    "    row=2, col=2\n",
    ")\n",
    "\n",
    "fig.update_layout(\n",
    "    title_text=\"Comparación de Técnicas de Binning para Datos Ruidosos\",\n",
    "    height=800,\n",
    "    width=1000,\n",
    "    showlegend=False\n",
    ")\n",
    "\n",
    "fig.show()"
   ]
  },
  {
   "cell_type": "markdown",
   "id": "3d51f973-4a8a-495c-a002-9cf1a723402c",
   "metadata": {},
   "source": [
    "# III.I~$\\rhd$~ Data Cleaning - Missing Values"
   ]
  },
  {
   "cell_type": "markdown",
   "id": "8a0e8d90-1950-4e35-8038-6ceb166d74df",
   "metadata": {},
   "source": [
    "## Ejemplo 5 - `sklearn.impute.SimpleImputer` - Mean - Axis 0"
   ]
  },
  {
   "cell_type": "code",
   "execution_count": null,
   "id": "5db01d76-f0fb-468a-a0a0-6a03b693eccd",
   "metadata": {},
   "outputs": [],
   "source": [
    "data_mean = np.array([[1, 2, np.nan], \n",
    "                     [4, np.nan, 6], \n",
    "                     [7, 8, 9], \n",
    "                     [np.nan, 11, 12]])"
   ]
  },
  {
   "cell_type": "code",
   "execution_count": null,
   "id": "0b8e3f2e-37e9-40e2-a921-dbfccd26b45d",
   "metadata": {},
   "outputs": [],
   "source": [
    "imputer_mean = SimpleImputer(missing_values=np.nan, strategy='mean')"
   ]
  },
  {
   "cell_type": "code",
   "execution_count": null,
   "id": "2d262fd5-332a-4684-803a-3183129fb135",
   "metadata": {},
   "outputs": [],
   "source": [
    "imputed_data_mean = imputer_mean.fit_transform(data_mean)"
   ]
  },
  {
   "cell_type": "code",
   "execution_count": null,
   "id": "f6bab296-1e96-42d2-9648-b834e89f8024",
   "metadata": {},
   "outputs": [],
   "source": [
    "print(\"Datos originales:\")\n",
    "print(data_mean)\n",
    "print(\"\\nDatos imputados con la media:\")\n",
    "print(imputed_data_mean)\n",
    "print(\"\\nValores usados para la imputación (medias):\")\n",
    "print(imputer_mean.statistics_)"
   ]
  },
  {
   "cell_type": "markdown",
   "id": "2c1d7992-6b7b-418f-ab5b-6f5f875bcbbf",
   "metadata": {},
   "source": [
    "## Ejemplo 6 - `sklearn.impute.SimpleImputer` - Median - Axis 0"
   ]
  },
  {
   "cell_type": "code",
   "execution_count": null,
   "id": "95306deb-eb76-4a87-b165-6e2f1b0e6237",
   "metadata": {},
   "outputs": [],
   "source": [
    "data_median = np.array([[10, 20, np.nan], \n",
    "                       [40, np.nan, 60], \n",
    "                       [70, 80, 90], \n",
    "                       [np.nan, 110, 120]])"
   ]
  },
  {
   "cell_type": "code",
   "execution_count": null,
   "id": "e6fdbf04-bde5-43db-81f2-1fdb78581578",
   "metadata": {},
   "outputs": [],
   "source": [
    "imputer_median = SimpleImputer(missing_values=np.nan, strategy='median')"
   ]
  },
  {
   "cell_type": "code",
   "execution_count": null,
   "id": "a9ef2843-10d7-4526-a27f-886b1c761a66",
   "metadata": {},
   "outputs": [],
   "source": [
    "imputed_data_median = imputer_median.fit_transform(data_median)"
   ]
  },
  {
   "cell_type": "code",
   "execution_count": null,
   "id": "f1869b35-4435-4570-8528-eb33d70a07e6",
   "metadata": {},
   "outputs": [],
   "source": [
    "print(\"Datos originales:\")\n",
    "print(data_median)\n",
    "print(\"\\nDatos imputados con la mediana:\")\n",
    "print(imputed_data_median)\n",
    "print(\"\\nValores usados para la imputación (medianas):\")\n",
    "print(imputer_median.statistics_)"
   ]
  },
  {
   "cell_type": "markdown",
   "id": "1cae0eb5-8498-4df1-98da-90a7a006f98f",
   "metadata": {},
   "source": [
    "## Ejemplo 7 - `sklearn.impute.KNNImputer` - k=2 - Axis 0"
   ]
  },
  {
   "cell_type": "code",
   "execution_count": null,
   "id": "f664e79c-91f3-4d45-be5f-61e3beb8d1b0",
   "metadata": {},
   "outputs": [],
   "source": [
    "data = np.array([\n",
    "    [1, 2],\n",
    "    [2, np.nan],    # Falta Y\n",
    "    [3, 6],\n",
    "    [4, 8],\n",
    "    [np.nan, 4],    # Falta X\n",
    "    [6, 12],\n",
    "    [7, np.nan],    # Falta Y\n",
    "    [8, 16]\n",
    "])"
   ]
  },
  {
   "cell_type": "code",
   "execution_count": null,
   "id": "a536d4a2-325b-4cce-8f54-618a60e507d8",
   "metadata": {},
   "outputs": [],
   "source": [
    "imputer = KNNImputer(n_neighbors=2)\n",
    "imputed_data = imputer.fit_transform(data)"
   ]
  },
  {
   "cell_type": "code",
   "execution_count": null,
   "id": "e54d6284-15a9-41fd-bdcb-534419771fcd",
   "metadata": {},
   "outputs": [],
   "source": [
    "fig = go.Figure()\n",
    "\n",
    "complete_mask = ~np.isnan(data).any(axis=1)\n",
    "complete_indices = np.where(complete_mask)[0]\n",
    "fig.add_trace(go.Scatter(\n",
    "    x=data[complete_mask, 0],\n",
    "    y=data[complete_mask, 1],\n",
    "    mode='markers',\n",
    "    marker=dict(size=12, color='blue', line=dict(width=2, color='DarkSlateGrey')),\n",
    "    name='Datos conocidos',\n",
    "    text=[f\"Punto {i+1}\" for i in complete_indices],\n",
    "    hoverinfo='text+x+y'\n",
    "))\n",
    "\n",
    "missing_indices = np.where(np.isnan(data).any(axis=1))[0]\n",
    "\n",
    "for idx in missing_indices:\n",
    "    x_orig = data[idx, 0] if not np.isnan(data[idx, 0]) else imputed_data[idx, 0]\n",
    "    y_orig = data[idx, 1] if not np.isnan(data[idx, 1]) else imputed_data[idx, 1]\n",
    "    \n",
    "    fig.add_trace(go.Scatter(\n",
    "        x=[x_orig],\n",
    "        y=[y_orig],\n",
    "        mode='markers',\n",
    "        marker=dict(size=12, color='red', symbol='x', line=dict(width=2)),\n",
    "        name=f'Faltante (fila {idx+1})',\n",
    "        hoverinfo='text',\n",
    "        hovertext=f\"Original: [{data[idx, 0] if not np.isnan(data[idx, 0]) else 'NaN'}, \"\n",
    "                 f\"{data[idx, 1] if not np.isnan(data[idx, 1]) else 'NaN'}]\"\n",
    "    ))\n",
    "\n",
    "    fig.add_trace(go.Scatter(\n",
    "        x=[imputed_data[idx, 0]],\n",
    "        y=[imputed_data[idx, 1]],\n",
    "        mode='markers',\n",
    "        marker=dict(size=12, color='green', line=dict(width=2)),\n",
    "        name=f'Imputado (fila {idx+1})',\n",
    "        hoverinfo='text',\n",
    "        hovertext=f\"Imputado: [{imputed_data[idx, 0]:.2f}, {imputed_data[idx, 1]:.2f}]\"\n",
    "    ))\n",
    "\n",
    "    if np.isnan(data[idx, 0]):\n",
    "        valid_points = data[complete_mask, 1]\n",
    "        distances = np.abs(valid_points - data[idx, 1])\n",
    "    else:\n",
    "        valid_points = data[complete_mask, 0]\n",
    "        distances = np.abs(valid_points - data[idx, 0])\n",
    "    \n",
    "    nearest_positions = np.argsort(distances)[:2]\n",
    "    nearest_indices = complete_indices[nearest_positions]\n",
    "    \n",
    "    for neighbor_idx in nearest_indices:\n",
    "        fig.add_trace(go.Scatter(\n",
    "            x=[imputed_data[idx, 0], data[neighbor_idx, 0]],\n",
    "            y=[imputed_data[idx, 1], data[neighbor_idx, 1]],\n",
    "            mode='lines',\n",
    "            line=dict(color='gray', width=1, dash='dot'),\n",
    "            showlegend=False,\n",
    "            hoverinfo='none'\n",
    "        ))\n",
    "\n",
    "fig.update_layout(\n",
    "    title='<b>Visualización de KNNImputer (n_neighbors=2)</b><br><sup>Círculos verdes: valores imputados | Cruces rojas: valores faltantes originales</sup>',\n",
    "    xaxis_title='Variable X',\n",
    "    yaxis_title='Variable Y',\n",
    "    hovermode='closest',\n",
    "    legend=dict(orientation=\"h\", yanchor=\"bottom\", y=1.1, xanchor=\"center\", x=0.5),\n",
    "    margin=dict(l=40, r=40, t=100, b=40),\n",
    "    width=1000,\n",
    "    height=900,\n",
    ")\n",
    "\n",
    "fig.show()"
   ]
  },
  {
   "cell_type": "code",
   "execution_count": null,
   "id": "5fb1b504-7450-48eb-81ba-8850fc39bd68",
   "metadata": {},
   "outputs": [],
   "source": [
    "print(\"Datos originales con valores faltantes:\")\n",
    "print(data)\n",
    "\n",
    "print(\"\\nDatos después de la imputación KNN:\")\n",
    "print(imputed_data)"
   ]
  },
  {
   "cell_type": "code",
   "execution_count": null,
   "id": "d194ae40-d18e-4a5b-9d87-0c17c7083232",
   "metadata": {},
   "outputs": [],
   "source": []
  }
 ],
 "metadata": {
  "kernelspec": {
   "display_name": "Python 3 (ipykernel)",
   "language": "python",
   "name": "python3"
  },
  "language_info": {
   "codemirror_mode": {
    "name": "ipython",
    "version": 3
   },
   "file_extension": ".py",
   "mimetype": "text/x-python",
   "name": "python",
   "nbconvert_exporter": "python",
   "pygments_lexer": "ipython3",
   "version": "3.12.9"
  }
 },
 "nbformat": 4,
 "nbformat_minor": 5
}
