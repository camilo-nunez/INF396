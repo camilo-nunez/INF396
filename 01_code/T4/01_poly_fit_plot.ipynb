{
 "cells": [
  {
   "cell_type": "markdown",
   "id": "0bbfb6c5-760b-4fa1-bfc0-9e8167011141",
   "metadata": {},
   "source": [
    "<center>\n",
    "    <img src=\"http://sct.inf.utfsm.cl/wp-content/uploads/2020/04/logo_di.png\" style=\"width:60%\">\n",
    "    <h1> INF396 - Introducción a la Ciencia de Datos</h1>\n",
    "    <h3> Material Complementario T4</h3>\n",
    "    <h3> Camilo Núñez-Fernández - camilo.nunezf@usm.cl</h3>\n",
    "</center>\n",
    "<hr style=\"height:2px;border:none\"/>\n",
    "\n",
    "**Temas**  \n",
    "\n",
    "* Sobre Métodos Lineales. Parte 1\n",
    "\n",
    "<hr style=\"height:2px;border:none\"/>"
   ]
  },
  {
   "cell_type": "code",
   "execution_count": null,
   "id": "7359f187-deb3-4031-8945-70edfbe1336b",
   "metadata": {},
   "outputs": [],
   "source": [
    "import numpy as np\n",
    "\n",
    "import plotly.graph_objects as go\n",
    "from plotly.subplots import make_subplots\n",
    "\n",
    "np.random.seed(42) "
   ]
  },
  {
   "cell_type": "markdown",
   "id": "89e18392-2bf9-4908-b1b2-a9babb60248e",
   "metadata": {},
   "source": [
    "# Ejemplo: Función $\\sin{\\left( 2\\pi x\\right)}$"
   ]
  },
  {
   "cell_type": "code",
   "execution_count": null,
   "id": "efe55079-a822-41ac-84d7-af5952b603e3",
   "metadata": {},
   "outputs": [],
   "source": [
    "x = np.linspace(0, 1, 10)\n",
    "y = np.sin(2*np.pi*x) + np.random.normal(0, 1.5, 10)\n",
    "y_obj = np.sin(2*np.pi*x)\n",
    "\n",
    "degrees = [0, 1, 3, 9]"
   ]
  },
  {
   "cell_type": "code",
   "execution_count": null,
   "id": "53448edf-17db-4201-8c09-50bbc1321f69",
   "metadata": {},
   "outputs": [],
   "source": [
    "fig = go.Figure()\n",
    "\n",
    "fig.add_trace(go.Scatter(\n",
    "    x=x, y=y, \n",
    "    mode='markers',\n",
    "    name=r'$y_{n}(x_{n}) = \\sin{\\left( 2~\\pi~x_{n}\\right)}+w$',\n",
    "    marker=dict(size=10, color='red')\n",
    "))\n",
    "\n",
    "fig.add_trace(go.Scatter(\n",
    "    x=x, y=y_obj,\n",
    "    mode='lines',\n",
    "    name=r'$y_{obj} = \\sin(2 \\pi x)$',\n",
    "    line=dict(width=3, color='blue')\n",
    "))\n",
    "\n",
    "fig.update_layout(\n",
    "    xaxis_title=r'$x_{n}$',\n",
    "    yaxis_title=r'$y_{n}$',\n",
    "    width=1000,\n",
    "    height=600,\n",
    "    font=dict(\n",
    "        size=32,\n",
    "    ),\n",
    "    xaxis=dict(\n",
    "        title_font=dict(size=24),\n",
    "        tickfont=dict(size=14)\n",
    "    ),\n",
    "    yaxis=dict(\n",
    "        title_font=dict(size=24),\n",
    "        tickfont=dict(size=14)\n",
    "    ),\n",
    "    legend=dict(\n",
    "        font=dict(size=13),\n",
    "        orientation=\"v\",\n",
    "        yanchor=\"top\",\n",
    "        y=1,\n",
    "        xanchor=\"left\",\n",
    "        x=0.65\n",
    "    )\n",
    ")\n",
    "\n",
    "fig.show()"
   ]
  },
  {
   "cell_type": "code",
   "execution_count": null,
   "id": "703bf726-7c67-4d11-9df3-7558e26d3368",
   "metadata": {},
   "outputs": [],
   "source": [
    "for m in degrees:\n",
    "    fig = go.Figure()\n",
    "\n",
    "    coeffs = np.polyfit(x, y, m, rcond=None)\n",
    "    print(f'Coefficients Poly(m={m}):', coeffs)\n",
    "    poly = np.poly1d(coeffs)\n",
    "    y_pred = poly(x)\n",
    "    \n",
    "    fig.add_trace(go.Scatter(x=x, y=y, mode='markers', name='Datos',\n",
    "                            marker=dict(color='black')))\n",
    "    fig.add_trace(go.Scatter(x=x, y=y_obj, mode='lines',\n",
    "                            name='Función objetivo', \n",
    "                            line=dict(color='green', dash='dash')))\n",
    "    fig.add_trace(go.Scatter(x=x, y=y_pred, mode='lines',\n",
    "                            name=f'Ajuste (grado {m})', \n",
    "                            line=dict(color='red')))\n",
    "\n",
    "    fig.update_layout(\n",
    "        title=dict(\n",
    "            text=f'Ajuste polinomial grado {m}<br>y(x) = sin(2πx)',\n",
    "            x=0.5,\n",
    "            xanchor='center'\n",
    "        ),\n",
    "        xaxis_title='x',\n",
    "        yaxis_title='y',\n",
    "        height=600,\n",
    "        width=800,\n",
    "        showlegend=True,\n",
    "        font=dict(size=14)\n",
    "    )\n",
    "\n",
    "    fig.show()"
   ]
  },
  {
   "cell_type": "code",
   "execution_count": null,
   "id": "8abe203d-202a-4c3f-afa8-150a0b8721df",
   "metadata": {},
   "outputs": [],
   "source": []
  }
 ],
 "metadata": {
  "kernelspec": {
   "display_name": "Python 3 (ipykernel)",
   "language": "python",
   "name": "python3"
  },
  "language_info": {
   "codemirror_mode": {
    "name": "ipython",
    "version": 3
   },
   "file_extension": ".py",
   "mimetype": "text/x-python",
   "name": "python",
   "nbconvert_exporter": "python",
   "pygments_lexer": "ipython3",
   "version": "3.12.9"
  }
 },
 "nbformat": 4,
 "nbformat_minor": 5
}
