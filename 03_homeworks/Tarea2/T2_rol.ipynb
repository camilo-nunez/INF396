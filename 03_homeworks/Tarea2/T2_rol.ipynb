{
 "cells": [
  {
   "cell_type": "markdown",
   "id": "d688146b-45bd-4ada-b842-e566a7d56a5a",
   "metadata": {},
   "source": [
    "<div align=\"center\">\n",
    "  <img src=\"http://sct.inf.utfsm.cl/wp-content/uploads/2020/04/logo_di.png\" width=\"70%\" style=\"min-width: 300px; max-width: 600px;\">\n",
    "  <h1>INF396 - Introducción a la Ciencia de Datos</h1>\n",
    "  <h3 style=\"color: #555;\">Tarea #2</h3>\n",
    "  <p>\n",
    "    <strong>Nombre</strong><br>\n",
    "    <em>Rol</em><br>\n",
    "    <em>correo@usm.cl</em>\n",
    "  </p>\n",
    "</div>\n",
    "\n",
    "<hr>"
   ]
  },
  {
   "cell_type": "code",
   "execution_count": 1,
   "id": "231dd7d0-2306-4aa0-a3fd-c40dcbc6a950",
   "metadata": {},
   "outputs": [],
   "source": [
    "import h5py"
   ]
  },
  {
   "cell_type": "markdown",
   "id": "2bf10f75-7227-4200-8bc5-cf670d3a7fda",
   "metadata": {},
   "source": [
    "# Load Datasets\n",
    "\n",
    "Pueden descargar el archivo desde este [link](https://usmcl-my.sharepoint.com/:f:/g/personal/camilo_nunezf_usm_cl/EjV-YI_uBatJh0gfB4pk6yIBNArCTaLq_MJOYtEcbId5rQ?e=U49wS9)."
   ]
  },
  {
   "cell_type": "code",
   "execution_count": 2,
   "id": "c85110c2-b5ec-4c2d-acb4-4b5cd577c152",
   "metadata": {},
   "outputs": [],
   "source": [
    "def cargar_datasets_desde_h5(archivo_h5):\n",
    "    datasets = {}\n",
    "    with h5py.File(archivo_h5, \"r\") as f:\n",
    "        for grupo in f:\n",
    "            datasets[grupo] = {}\n",
    "            for key in f[grupo]:\n",
    "                datasets[grupo][key] = f[grupo][key][:]\n",
    "    return datasets\n",
    "\n",
    "datasets_train = cargar_datasets_desde_h5(\"datasets_train_651BDBFB.h5\")"
   ]
  },
  {
   "cell_type": "markdown",
   "id": "02b36dba-883a-404d-8bdf-7512958d4801",
   "metadata": {},
   "source": [
    "# Question 1"
   ]
  },
  {
   "cell_type": "code",
   "execution_count": null,
   "id": "6e3681c7-2a6b-4dbd-ae4b-1e1d63633307",
   "metadata": {},
   "outputs": [],
   "source": []
  },
  {
   "cell_type": "markdown",
   "id": "6aebc86a-17be-4b7b-ac43-097f91b541ba",
   "metadata": {},
   "source": [
    "# Question 2"
   ]
  },
  {
   "cell_type": "code",
   "execution_count": null,
   "id": "de4c0e07-9b6f-4078-ab71-11227d4be074",
   "metadata": {},
   "outputs": [],
   "source": []
  },
  {
   "cell_type": "markdown",
   "id": "584c1b30-bb21-4685-a5b7-46efbba63cbf",
   "metadata": {},
   "source": [
    "# Question 3"
   ]
  },
  {
   "cell_type": "code",
   "execution_count": null,
   "id": "05268729-6c43-48a7-8fdd-afbe1484d5e4",
   "metadata": {},
   "outputs": [],
   "source": []
  },
  {
   "cell_type": "markdown",
   "id": "44ca608b-9003-4ac4-8ffd-971d1db8ff30",
   "metadata": {},
   "source": [
    "# Question 4"
   ]
  },
  {
   "cell_type": "code",
   "execution_count": null,
   "id": "ba5bfde1-2a49-4347-a844-ad867f420f69",
   "metadata": {},
   "outputs": [],
   "source": []
  },
  {
   "cell_type": "markdown",
   "id": "ceb08cbc-066c-462e-99d3-6141ac162bcc",
   "metadata": {},
   "source": [
    "# Question 5"
   ]
  },
  {
   "cell_type": "code",
   "execution_count": null,
   "id": "acb68ae2-a454-4aa0-8097-ec62a0f8b2f2",
   "metadata": {},
   "outputs": [],
   "source": []
  }
 ],
 "metadata": {
  "kernelspec": {
   "display_name": "Python 3 (ipykernel)",
   "language": "python",
   "name": "python3"
  },
  "language_info": {
   "codemirror_mode": {
    "name": "ipython",
    "version": 3
   },
   "file_extension": ".py",
   "mimetype": "text/x-python",
   "name": "python",
   "nbconvert_exporter": "python",
   "pygments_lexer": "ipython3",
   "version": "3.12.9"
  }
 },
 "nbformat": 4,
 "nbformat_minor": 5
}
